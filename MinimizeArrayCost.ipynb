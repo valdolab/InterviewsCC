{
  "nbformat": 4,
  "nbformat_minor": 0,
  "metadata": {
    "colab": {
      "provenance": [],
      "authorship_tag": "ABX9TyMZ7S8d6lvNCuNkrRGLF+SS",
      "include_colab_link": true
    },
    "kernelspec": {
      "name": "python3",
      "display_name": "Python 3"
    },
    "language_info": {
      "name": "python"
    }
  },
  "cells": [
    {
      "cell_type": "markdown",
      "metadata": {
        "id": "view-in-github",
        "colab_type": "text"
      },
      "source": [
        "<a href=\"https://colab.research.google.com/github/valdolab/InterviewsCC/blob/main/MinimizeArrayCost.ipynb\" target=\"_parent\"><img src=\"https://colab.research.google.com/assets/colab-badge.svg\" alt=\"Open In Colab\"/></a>"
      ]
    },
    {
      "cell_type": "markdown",
      "source": [
        "#MInimize array cost\n",
        "Given an array of n positive integers, assuming 0-based indexing, its cost is:\n",
        "\n",
        "\n",
        "$ {\\displaystyle \\sum_{i=1}^{len(arr)-1} (arr_i - arr_{i-1})^2 }$\n",
        "\n",
        "len(arr) is a size of the array\n",
        "\n",
        "insert any integer at any location of the array such that the costo of the array is minimized. Find the array after inserting exactly one element.\n",
        "\n",
        "**Example**\n",
        "a = [1,3,5,2,10]\n",
        "\n",
        "The cost of the array before insertion: $ (1-3)^2 + (3-5)^2 + (5-2)^2 + (2-10)^2 = 81 $\n",
        "\n",
        "Two of many scenarios are shown below.\n",
        "1. Insert 4 between 3 and 5, costo of array: $ (1-3)^2 + (3-4)^2 + (4-5)^2 + (5-2)^2 + (2-10)^2 = 79 $\n",
        "2. Insert 6 between 2 and 10, costo of array: $ (1-3)^2 + (3-5)^2 + (5-2)^2 + (2-6)^2 + (6-10)^2 = 49 $\n",
        "\n",
        "It can be proven that 49 is the minimum cost possible, so. Return 49.\n",
        "\n",
        "\n"
      ],
      "metadata": {
        "id": "l5C5yImjn7QW"
      }
    },
    {
      "cell_type": "code",
      "execution_count": 1,
      "metadata": {
        "id": "BQlFFCYnnXLD"
      },
      "outputs": [],
      "source": [
        "#The approach in this case is find the numbers that got the max cost in the array, calculate the middle number between each number (used to compute the max),\n",
        "#and then this middle is the candidate numbers, add to the array and re calculate de cost\n",
        "\n",
        "def getMinimumCost(arr):\n",
        "    # Write your code here\n",
        "    cost = 0\n",
        "    cost_max = 0\n",
        "    first_inx = 0\n",
        "    second_inx = 0\n",
        "    #compute the cost of the array\n",
        "    for i in range(len(arr)-1):\n",
        "        cost_aux = (arr[i]-arr[i+1])**2\n",
        "        #find and save the max cost found it in th array\n",
        "        if cost_aux > cost_max:\n",
        "            cost_max = cost_aux\n",
        "            first_inx = i\n",
        "            second_inx = i + 1\n",
        "\n",
        "    #new number between the max diff\n",
        "    middle = (arr[first_inx] + arr[second_inx]) // 2\n",
        "    #add the costs\n",
        "    cost += ((arr[first_inx] - middle)**2)\n",
        "    cost += ((arr[second_inx] - middle)**2)\n",
        "    #compute the new cost\n",
        "    for i in range(len(arr)-1):\n",
        "        if i != first_inx:\n",
        "            first = arr[i]\n",
        "            second = arr[i+1]\n",
        "            cost += ((first - second)**2)\n",
        "\n",
        "    return cost"
      ]
    },
    {
      "cell_type": "code",
      "source": [],
      "metadata": {
        "id": "0oT7tZmgsMgF"
      },
      "execution_count": null,
      "outputs": []
    }
  ]
}